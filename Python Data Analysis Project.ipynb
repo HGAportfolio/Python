{
 "cells": [
  {
   "cell_type": "code",
   "execution_count": 1,
   "id": "3d2f679b",
   "metadata": {},
   "outputs": [],
   "source": [
    "# Import libraries\n",
    "\n",
    "from pathlib import Path\n",
    "import numpy as np\n",
    "import pandas as pd   \n",
    "import seaborn as sns \n",
    "import matplotlib  \n",
    "import matplotlib.pyplot as plt\n",
    "from matplotlib.pyplot import figure\n",
    "\n",
    "%matplotlib inline           "
   ]
  },
  {
   "cell_type": "code",
   "execution_count": 4,
   "id": "e4cd6996",
   "metadata": {},
   "outputs": [],
   "source": [
    "# read in the data from multiple files\n",
    "\n",
    "pathx = Path(r\"C:\\Users\\newla\\Downloads\\Data\")\n",
    "files = pathx.glob(\"*.*\")  \n",
    "\n",
    "alldf = pd.concat(map(lambda x: pd.read_csv(x, encoding = \"latin-1\"), files), ignore_index=True)"
   ]
  },
  {
   "cell_type": "code",
   "execution_count": 5,
   "id": "c1cacbd7",
   "metadata": {
    "scrolled": true
   },
   "outputs": [
    {
     "data": {
      "text/html": [
       "<div>\n",
       "<style scoped>\n",
       "    .dataframe tbody tr th:only-of-type {\n",
       "        vertical-align: middle;\n",
       "    }\n",
       "\n",
       "    .dataframe tbody tr th {\n",
       "        vertical-align: top;\n",
       "    }\n",
       "\n",
       "    .dataframe thead th {\n",
       "        text-align: right;\n",
       "    }\n",
       "</style>\n",
       "<table border=\"1\" class=\"dataframe\">\n",
       "  <thead>\n",
       "    <tr style=\"text-align: right;\">\n",
       "      <th></th>\n",
       "      <th>House ID</th>\n",
       "      <th>Category</th>\n",
       "      <th>Sale Date</th>\n",
       "      <th>Company</th>\n",
       "      <th>Address</th>\n",
       "      <th>Quantity</th>\n",
       "      <th>budget</th>\n",
       "      <th>gross</th>\n",
       "    </tr>\n",
       "  </thead>\n",
       "  <tbody>\n",
       "    <tr>\n",
       "      <th>0</th>\n",
       "      <td>CA-2016-152156</td>\n",
       "      <td>Residential</td>\n",
       "      <td>11/08/2016</td>\n",
       "      <td>Stanley Kubrick</td>\n",
       "      <td>United States,Kentucky,Henderson</td>\n",
       "      <td>2.0</td>\n",
       "      <td>19000000.0</td>\n",
       "      <td>46998772.0</td>\n",
       "    </tr>\n",
       "    <tr>\n",
       "      <th>1</th>\n",
       "      <td>CA-2016-152156</td>\n",
       "      <td>Raw Land</td>\n",
       "      <td>11/08/2016</td>\n",
       "      <td>Randal Kleiser</td>\n",
       "      <td>United States,Kentucky,Henderson</td>\n",
       "      <td>3.0</td>\n",
       "      <td>4500000.0</td>\n",
       "      <td>58853106.0</td>\n",
       "    </tr>\n",
       "    <tr>\n",
       "      <th>2</th>\n",
       "      <td>CA-2016-138688</td>\n",
       "      <td>Commercial</td>\n",
       "      <td>06/12/2016</td>\n",
       "      <td>Irvin Kershner</td>\n",
       "      <td>United States,California,Los Angeles</td>\n",
       "      <td>2.0</td>\n",
       "      <td>18000000.0</td>\n",
       "      <td>538375067.0</td>\n",
       "    </tr>\n",
       "    <tr>\n",
       "      <th>3</th>\n",
       "      <td>US-2015-108966</td>\n",
       "      <td>Special Use</td>\n",
       "      <td>10/11/2015</td>\n",
       "      <td>Jim Abrahams</td>\n",
       "      <td>United States,Florida,Fort Lauderdale</td>\n",
       "      <td>5.0</td>\n",
       "      <td>3500000.0</td>\n",
       "      <td>83453539.0</td>\n",
       "    </tr>\n",
       "    <tr>\n",
       "      <th>4</th>\n",
       "      <td>US-2015-108966</td>\n",
       "      <td>Special Use</td>\n",
       "      <td>10/11/2015</td>\n",
       "      <td>Harold Ramis</td>\n",
       "      <td>United States,Florida,Fort Lauderdale</td>\n",
       "      <td>2.0</td>\n",
       "      <td>6000000.0</td>\n",
       "      <td>39846344.0</td>\n",
       "    </tr>\n",
       "  </tbody>\n",
       "</table>\n",
       "</div>"
      ],
      "text/plain": [
       "         House ID     Category   Sale Date          Company  \\\n",
       "0  CA-2016-152156  Residential  11/08/2016  Stanley Kubrick   \n",
       "1  CA-2016-152156     Raw Land  11/08/2016   Randal Kleiser   \n",
       "2  CA-2016-138688   Commercial  06/12/2016   Irvin Kershner   \n",
       "3  US-2015-108966  Special Use  10/11/2015     Jim Abrahams   \n",
       "4  US-2015-108966  Special Use  10/11/2015     Harold Ramis   \n",
       "\n",
       "                                 Address  Quantity      budget        gross  \n",
       "0       United States,Kentucky,Henderson       2.0  19000000.0   46998772.0  \n",
       "1       United States,Kentucky,Henderson       3.0   4500000.0   58853106.0  \n",
       "2   United States,California,Los Angeles       2.0  18000000.0  538375067.0  \n",
       "3  United States,Florida,Fort Lauderdale       5.0   3500000.0   83453539.0  \n",
       "4  United States,Florida,Fort Lauderdale       2.0   6000000.0   39846344.0  "
      ]
     },
     "execution_count": 5,
     "metadata": {},
     "output_type": "execute_result"
    }
   ],
   "source": [
    "# write the merged data into a csv file\n",
    "\n",
    "alldf.to_csv(pathx/ \"all_data.csv\", index=False)\n",
    "df = pd.read_csv(pathx/ \"all_data.csv\")\n",
    "df.head()"
   ]
  },
  {
   "attachments": {
    "bluebar.png": {
     "image/png": "[encoded data removed]"
    }
   },
   "cell_type": "markdown",
   "id": "0586c662",
   "metadata": {},
   "source": [
    "![bluebar.png](attachment:bluebar.png)"
   ]
  },
  {
   "cell_type": "markdown",
   "id": "d8448ea5",
   "metadata": {},
   "source": [
    "# <span style=\"color:red\"> Clean the Data </span>"
   ]
  },
  {
   "cell_type": "code",
   "execution_count": 6,
   "id": "2b76d469",
   "metadata": {
    "scrolled": true
   },
   "outputs": [
    {
     "data": {
      "text/plain": [
       "House ID     True\n",
       "Category     True\n",
       "Sale Date    True\n",
       "Company      True\n",
       "Address      True\n",
       "Quantity     True\n",
       "budget       True\n",
       "gross        True\n",
       "dtype: bool"
      ]
     },
     "execution_count": 6,
     "metadata": {},
     "output_type": "execute_result"
    }
   ],
   "source": [
    "# Check if there is any missing value in the data\n",
    "\n",
    "df.isnull().any()"
   ]
  },
  {
   "cell_type": "code",
   "execution_count": 7,
   "id": "f112ba29",
   "metadata": {
    "scrolled": true
   },
   "outputs": [
    {
     "data": {
      "text/plain": [
       "House ID     3160\n",
       "Category     3160\n",
       "Sale Date    3160\n",
       "Company      3160\n",
       "Address       834\n",
       "Quantity      834\n",
       "budget       5331\n",
       "gross        3349\n",
       "dtype: int64"
      ]
     },
     "execution_count": 7,
     "metadata": {},
     "output_type": "execute_result"
    }
   ],
   "source": [
    "#Check the number of missing values at each column\n",
    "\n",
    "df.isnull().sum()"
   ]
  },
  {
   "cell_type": "code",
   "execution_count": 6,
   "id": "e1e53f98",
   "metadata": {},
   "outputs": [],
   "source": [
    "#Check the number of missing values in each ROW\n",
    "# for i in range(len(df.index)) :\n",
    "#     print(\"Row\", i ,\"=\", df.iloc[i].isnull().sum())\n"
   ]
  },
  {
   "cell_type": "code",
   "execution_count": 8,
   "id": "f9e54f64",
   "metadata": {},
   "outputs": [
    {
     "data": {
      "text/plain": [
       "22988"
      ]
     },
     "execution_count": 8,
     "metadata": {},
     "output_type": "execute_result"
    }
   ],
   "source": [
    "# see the sum of the missing values at the entire dataframe\n",
    "df.isnull().sum().sum()"
   ]
  },
  {
   "cell_type": "code",
   "execution_count": 9,
   "id": "ae6c8d94",
   "metadata": {},
   "outputs": [],
   "source": [
    "# drop null values\n",
    "df = df.dropna()"
   ]
  },
  {
   "cell_type": "code",
   "execution_count": 10,
   "id": "6a812cc0",
   "metadata": {},
   "outputs": [
    {
     "data": {
      "text/plain": [
       "0"
      ]
     },
     "execution_count": 10,
     "metadata": {},
     "output_type": "execute_result"
    }
   ],
   "source": [
    "df.isnull().sum().sum()"
   ]
  },
  {
   "cell_type": "code",
   "execution_count": 11,
   "id": "8be1181c",
   "metadata": {},
   "outputs": [
    {
     "data": {
      "text/plain": [
       "House ID      object\n",
       "Category      object\n",
       "Sale Date     object\n",
       "Company       object\n",
       "Address       object\n",
       "Quantity     float64\n",
       "budget       float64\n",
       "gross        float64\n",
       "dtype: object"
      ]
     },
     "execution_count": 11,
     "metadata": {},
     "output_type": "execute_result"
    }
   ],
   "source": [
    "# Check Data types of columns\n",
    "\n",
    "df.dtypes"
   ]
  },
  {
   "cell_type": "code",
   "execution_count": 12,
   "id": "a2b0fa4c",
   "metadata": {},
   "outputs": [],
   "source": [
    "# change the data type of Quantity column\n",
    "\n",
    "df [\"Quantity\"] = df [\"Quantity\"].astype(\"int64\")"
   ]
  },
  {
   "cell_type": "code",
   "execution_count": 13,
   "id": "cb880551",
   "metadata": {},
   "outputs": [],
   "source": [
    "# change the data type of Sale Date column to datetime\n",
    "\n",
    "df [\"Sale Date\"] = df [\"Sale Date\"].astype(\"datetime64\")\n"
   ]
  },
  {
   "cell_type": "code",
   "execution_count": 14,
   "id": "41f6f06c",
   "metadata": {},
   "outputs": [],
   "source": [
    "# Detect and drop duplicates\n",
    "\n",
    "df.duplicated(subset=[\"House ID\", \"Company\"])\n",
    "df = df.drop_duplicates(subset=[\"House ID\", \"Company\"])"
   ]
  },
  {
   "cell_type": "code",
   "execution_count": 15,
   "id": "44090120",
   "metadata": {},
   "outputs": [
    {
     "data": {
      "text/html": [
       "<div>\n",
       "<style scoped>\n",
       "    .dataframe tbody tr th:only-of-type {\n",
       "        vertical-align: middle;\n",
       "    }\n",
       "\n",
       "    .dataframe tbody tr th {\n",
       "        vertical-align: top;\n",
       "    }\n",
       "\n",
       "    .dataframe thead th {\n",
       "        text-align: right;\n",
       "    }\n",
       "</style>\n",
       "<table border=\"1\" class=\"dataframe\">\n",
       "  <thead>\n",
       "    <tr style=\"text-align: right;\">\n",
       "      <th></th>\n",
       "      <th>House ID</th>\n",
       "      <th>Category</th>\n",
       "      <th>Sale Date</th>\n",
       "      <th>Company</th>\n",
       "      <th>Address</th>\n",
       "      <th>Quantity</th>\n",
       "      <th>budget</th>\n",
       "      <th>gross</th>\n",
       "      <th>Country</th>\n",
       "      <th>State</th>\n",
       "      <th>City</th>\n",
       "    </tr>\n",
       "  </thead>\n",
       "  <tbody>\n",
       "    <tr>\n",
       "      <th>0</th>\n",
       "      <td>CA-2016-152156</td>\n",
       "      <td>Residential</td>\n",
       "      <td>2016-11-08</td>\n",
       "      <td>Stanley Kubrick</td>\n",
       "      <td>United States,Kentucky,Henderson</td>\n",
       "      <td>2</td>\n",
       "      <td>19000000.0</td>\n",
       "      <td>46998772.0</td>\n",
       "      <td>United States</td>\n",
       "      <td>Kentucky</td>\n",
       "      <td>Henderson</td>\n",
       "    </tr>\n",
       "    <tr>\n",
       "      <th>1</th>\n",
       "      <td>CA-2016-152156</td>\n",
       "      <td>Raw Land</td>\n",
       "      <td>2016-11-08</td>\n",
       "      <td>Randal Kleiser</td>\n",
       "      <td>United States,Kentucky,Henderson</td>\n",
       "      <td>3</td>\n",
       "      <td>4500000.0</td>\n",
       "      <td>58853106.0</td>\n",
       "      <td>United States</td>\n",
       "      <td>Kentucky</td>\n",
       "      <td>Henderson</td>\n",
       "    </tr>\n",
       "    <tr>\n",
       "      <th>2</th>\n",
       "      <td>CA-2016-138688</td>\n",
       "      <td>Commercial</td>\n",
       "      <td>2016-06-12</td>\n",
       "      <td>Irvin Kershner</td>\n",
       "      <td>United States,California,Los Angeles</td>\n",
       "      <td>2</td>\n",
       "      <td>18000000.0</td>\n",
       "      <td>538375067.0</td>\n",
       "      <td>United States</td>\n",
       "      <td>California</td>\n",
       "      <td>Los Angeles</td>\n",
       "    </tr>\n",
       "    <tr>\n",
       "      <th>3</th>\n",
       "      <td>US-2015-108966</td>\n",
       "      <td>Special Use</td>\n",
       "      <td>2015-10-11</td>\n",
       "      <td>Jim Abrahams</td>\n",
       "      <td>United States,Florida,Fort Lauderdale</td>\n",
       "      <td>5</td>\n",
       "      <td>3500000.0</td>\n",
       "      <td>83453539.0</td>\n",
       "      <td>United States</td>\n",
       "      <td>Florida</td>\n",
       "      <td>Fort Lauderdale</td>\n",
       "    </tr>\n",
       "    <tr>\n",
       "      <th>4</th>\n",
       "      <td>US-2015-108966</td>\n",
       "      <td>Special Use</td>\n",
       "      <td>2015-10-11</td>\n",
       "      <td>Harold Ramis</td>\n",
       "      <td>United States,Florida,Fort Lauderdale</td>\n",
       "      <td>2</td>\n",
       "      <td>6000000.0</td>\n",
       "      <td>39846344.0</td>\n",
       "      <td>United States</td>\n",
       "      <td>Florida</td>\n",
       "      <td>Fort Lauderdale</td>\n",
       "    </tr>\n",
       "  </tbody>\n",
       "</table>\n",
       "</div>"
      ],
      "text/plain": [
       "         House ID     Category  Sale Date          Company  \\\n",
       "0  CA-2016-152156  Residential 2016-11-08  Stanley Kubrick   \n",
       "1  CA-2016-152156     Raw Land 2016-11-08   Randal Kleiser   \n",
       "2  CA-2016-138688   Commercial 2016-06-12   Irvin Kershner   \n",
       "3  US-2015-108966  Special Use 2015-10-11     Jim Abrahams   \n",
       "4  US-2015-108966  Special Use 2015-10-11     Harold Ramis   \n",
       "\n",
       "                                 Address  Quantity      budget        gross  \\\n",
       "0       United States,Kentucky,Henderson         2  19000000.0   46998772.0   \n",
       "1       United States,Kentucky,Henderson         3   4500000.0   58853106.0   \n",
       "2   United States,California,Los Angeles         2  18000000.0  538375067.0   \n",
       "3  United States,Florida,Fort Lauderdale         5   3500000.0   83453539.0   \n",
       "4  United States,Florida,Fort Lauderdale         2   6000000.0   39846344.0   \n",
       "\n",
       "         Country       State             City  \n",
       "0  United States    Kentucky        Henderson  \n",
       "1  United States    Kentucky        Henderson  \n",
       "2  United States  California      Los Angeles  \n",
       "3  United States     Florida  Fort Lauderdale  \n",
       "4  United States     Florida  Fort Lauderdale  "
      ]
     },
     "execution_count": 15,
     "metadata": {},
     "output_type": "execute_result"
    }
   ],
   "source": [
    "# Split Address columns into three columns, Country - State - City\n",
    "\n",
    "df[\"Country\"]= df[\"Address\"].apply(lambda x: x.split(\",\")[0])\n",
    "df[\"State\"]= df[\"Address\"].apply(lambda x: x.split(\",\")[1])\n",
    "df[\"City\"]= df[\"Address\"].apply(lambda x: x.split(\",\")[2])\n",
    "\n",
    "# # or do as follows\n",
    "\n",
    "# new_date = df[\"Address\"].str.split(\",\", n = -1, expand = True)\n",
    "\n",
    "# df[\"Country\"]= new_date [0]\n",
    "# df[\"State\"] = new_date [1]\n",
    "# df[\"City\"]= new_date [2]\n",
    "\n",
    "df.head()"
   ]
  },
  {
   "cell_type": "code",
   "execution_count": null,
   "id": "79a202fc",
   "metadata": {},
   "outputs": [],
   "source": [
    "# Fix invalid values"
   ]
  },
  {
   "cell_type": "code",
   "execution_count": 17,
   "id": "e92c2564",
   "metadata": {},
   "outputs": [],
   "source": [
    "# sort the data  \n",
    "\n",
    "df = df.sort_values(\"Sale Date\", ascending=False)"
   ]
  },
  {
   "cell_type": "code",
   "execution_count": 18,
   "id": "ac01b353",
   "metadata": {},
   "outputs": [],
   "source": [
    "# Display all the data\n",
    "# pd.set_option(\"display.max_rows\", None)"
   ]
  },
  {
   "attachments": {
    "goldenbar.png": {
     "image/png": "[encoded data removed]"
    }
   },
   "cell_type": "markdown",
   "id": "8f426685",
   "metadata": {},
   "source": [
    "![goldenbar.png](attachment:goldenbar.png)"
   ]
  },
  {
   "cell_type": "markdown",
   "id": "36c62d67",
   "metadata": {},
   "source": [
    "# <span style=\"color:cornflowerblue\">Analyse the Data</span>"
   ]
  },
  {
   "cell_type": "markdown",
   "id": "fbf643e9",
   "metadata": {},
   "source": [
    "#### <span style=\"color:chocolate\">Which variables(columns) are correlated with the gross</span>"
   ]
  },
  {
   "cell_type": "code",
   "execution_count": 35,
   "id": "c12c89c3",
   "metadata": {},
   "outputs": [
    {
     "data": {
      "text/plain": [
       "Text(0, 0.5, 'Gross Earnings')"
      ]
     },
     "execution_count": 35,
     "metadata": {},
     "output_type": "execute_result"
    },
    {
     "data": {
      "image/png": "[encoded data removed]",
      "text/plain": [
       "<Figure size 432x288 with 1 Axes>"
      ]
     },
     "metadata": {
      "needs_background": "light"
     },
     "output_type": "display_data"
    }
   ],
   "source": [
    "# Scater plot with budget vs  gross\n",
    "\n",
    "plt.scatter(x=df[\"budget\"], y=df[\"gross\"])\n",
    "\n",
    "plt.title(\"Budget vs Gross Earnings\")\n",
    "plt.xlabel(\"Budges\")\n",
    "plt.ylabel(\"Gross Earnings\")\n"
   ]
  },
  {
   "cell_type": "code",
   "execution_count": 41,
   "id": "3cd5bc0f",
   "metadata": {
    "scrolled": true
   },
   "outputs": [
    {
     "data": {
      "text/plain": [
       "<AxesSubplot:xlabel='budget', ylabel='gross'>"
      ]
     },
     "execution_count": 41,
     "metadata": {},
     "output_type": "execute_result"
    },
    {
     "data": {
      "image/png": "[encoded data removed]",
      "text/plain": [
       "<Figure size 432x288 with 1 Axes>"
      ]
     },
     "metadata": {
      "needs_background": "light"
     },
     "output_type": "display_data"
    }
   ],
   "source": [
    "# plot budget vs gross using seaborn\n",
    "\n",
    "sns.regplot(x=df[\"budget\"], y=df[\"gross\"], data=df, scatter_kws={\"color\":\"red\"}, line_kws = {\"color\":\"blue\"})\n"
   ]
  },
  {
   "cell_type": "code",
   "execution_count": 49,
   "id": "f70a05e7",
   "metadata": {
    "scrolled": true
   },
   "outputs": [
    {
     "data": {
      "text/html": [
       "<div>\n",
       "<style scoped>\n",
       "    .dataframe tbody tr th:only-of-type {\n",
       "        vertical-align: middle;\n",
       "    }\n",
       "\n",
       "    .dataframe tbody tr th {\n",
       "        vertical-align: top;\n",
       "    }\n",
       "\n",
       "    .dataframe thead th {\n",
       "        text-align: right;\n",
       "    }\n",
       "</style>\n",
       "<table border=\"1\" class=\"dataframe\">\n",
       "  <thead>\n",
       "    <tr style=\"text-align: right;\">\n",
       "      <th></th>\n",
       "      <th>Quantity</th>\n",
       "      <th>budget</th>\n",
       "      <th>gross</th>\n",
       "    </tr>\n",
       "  </thead>\n",
       "  <tbody>\n",
       "    <tr>\n",
       "      <th>Quantity</th>\n",
       "      <td>1.000000</td>\n",
       "      <td>-0.005532</td>\n",
       "      <td>0.009857</td>\n",
       "    </tr>\n",
       "    <tr>\n",
       "      <th>budget</th>\n",
       "      <td>-0.005532</td>\n",
       "      <td>1.000000</td>\n",
       "      <td>0.719193</td>\n",
       "    </tr>\n",
       "    <tr>\n",
       "      <th>gross</th>\n",
       "      <td>0.009857</td>\n",
       "      <td>0.719193</td>\n",
       "      <td>1.000000</td>\n",
       "    </tr>\n",
       "  </tbody>\n",
       "</table>\n",
       "</div>"
      ],
      "text/plain": [
       "          Quantity    budget     gross\n",
       "Quantity  1.000000 -0.005532  0.009857\n",
       "budget   -0.005532  1.000000  0.719193\n",
       "gross     0.009857  0.719193  1.000000"
      ]
     },
     "execution_count": 49,
     "metadata": {},
     "output_type": "execute_result"
    }
   ],
   "source": [
    "# Look at the correlation \n",
    "df.corr()\n",
    "# df.corr(method=\"kendall\")\n",
    "# df.corr(method=\"spearman\")"
   ]
  },
  {
   "cell_type": "code",
   "execution_count": 58,
   "id": "c7662fc4",
   "metadata": {
    "scrolled": true
   },
   "outputs": [
    {
     "data": {
      "text/plain": [
       "Text(33.0, 0.5, 'Data future')"
      ]
     },
     "execution_count": 58,
     "metadata": {},
     "output_type": "execute_result"
    },
    {
     "data": {
      "image/png": "[encoded data removed]",
      "text/plain": [
       "<Figure size 432x288 with 2 Axes>"
      ]
     },
     "metadata": {
      "needs_background": "light"
     },
     "output_type": "display_data"
    }
   ],
   "source": [
    "#Visualize the correlation matrix\n",
    "\n",
    "correlation_matrix = df.corr() \n",
    "sns.heatmap(correlation_matrix, annot=True)\n",
    "plt.title(\"Correlation Matrix for Numeric columns\")\n",
    "plt.xlabel(\"Data features\")\n",
    "plt.ylabel(\"Data features\")"
   ]
  },
  {
   "cell_type": "code",
   "execution_count": 63,
   "id": "40bc9947",
   "metadata": {
    "scrolled": true
   },
   "outputs": [
    {
     "data": {
      "text/plain": [
       "Text(0, 0.5, 'Gross Earnings')"
      ]
     },
     "execution_count": 63,
     "metadata": {},
     "output_type": "execute_result"
    },
    {
     "data": {
      "image/png": "[encoded data removed]",
      "text/plain": [
       "<Figure size 432x288 with 1 Axes>"
      ]
     },
     "metadata": {
      "needs_background": "light"
     },
     "output_type": "display_data"
    }
   ],
   "source": [
    "# plot company vs  gross using seaborn\n",
    "\n",
    "# first generate numeric representation of company column, give companies a code\n",
    "\n",
    "df_coded_company = df \n",
    "df_coded_company[\"Company\"]= df_coded_company[\"Company\"].astype(\"category\")\n",
    "df_coded_company[\"Company\"]= df_coded_company[\"Company\"].cat.codes\n",
    "df_coded_company\n",
    "\n",
    "# plot \n",
    "\n",
    "sns.regplot(x=df_coded_company[\"Company\"], y=df_coded_company[\"gross\"], data=df_coded_company, scatter_kws={\"color\":\"red\"}, line_kws = {\"color\":\"blue\"})\n",
    "\n",
    "plt.title(\"Company vs Gross Earnings\")\n",
    "plt.xlabel(\"Company\")\n",
    "plt.ylabel(\"Gross Earnings\")\n"
   ]
  },
  {
   "cell_type": "code",
   "execution_count": 66,
   "id": "fb099e51",
   "metadata": {},
   "outputs": [
    {
     "data": {
      "text/html": [
       "<div>\n",
       "<style scoped>\n",
       "    .dataframe tbody tr th:only-of-type {\n",
       "        vertical-align: middle;\n",
       "    }\n",
       "\n",
       "    .dataframe tbody tr th {\n",
       "        vertical-align: top;\n",
       "    }\n",
       "\n",
       "    .dataframe thead th {\n",
       "        text-align: right;\n",
       "    }\n",
       "</style>\n",
       "<table border=\"1\" class=\"dataframe\">\n",
       "  <thead>\n",
       "    <tr style=\"text-align: right;\">\n",
       "      <th></th>\n",
       "      <th>House ID</th>\n",
       "      <th>Category</th>\n",
       "      <th>Sale Date</th>\n",
       "      <th>Company</th>\n",
       "      <th>Address</th>\n",
       "      <th>Quantity</th>\n",
       "      <th>budget</th>\n",
       "      <th>gross</th>\n",
       "      <th>Country</th>\n",
       "      <th>State</th>\n",
       "      <th>City</th>\n",
       "    </tr>\n",
       "  </thead>\n",
       "  <tbody>\n",
       "    <tr>\n",
       "      <th>1297</th>\n",
       "      <td>1675</td>\n",
       "      <td>0</td>\n",
       "      <td>2017-12-30</td>\n",
       "      <td>1644</td>\n",
       "      <td>40</td>\n",
       "      <td>2</td>\n",
       "      <td>3500000.0</td>\n",
       "      <td>4385516.0</td>\n",
       "      <td>0</td>\n",
       "      <td>3</td>\n",
       "      <td>115</td>\n",
       "    </tr>\n",
       "    <tr>\n",
       "      <th>1296</th>\n",
       "      <td>1675</td>\n",
       "      <td>0</td>\n",
       "      <td>2017-12-30</td>\n",
       "      <td>986</td>\n",
       "      <td>40</td>\n",
       "      <td>2</td>\n",
       "      <td>3000000.0</td>\n",
       "      <td>13030057.0</td>\n",
       "      <td>0</td>\n",
       "      <td>3</td>\n",
       "      <td>115</td>\n",
       "    </tr>\n",
       "    <tr>\n",
       "      <th>645</th>\n",
       "      <td>1806</td>\n",
       "      <td>3</td>\n",
       "      <td>2017-12-30</td>\n",
       "      <td>1533</td>\n",
       "      <td>186</td>\n",
       "      <td>2</td>\n",
       "      <td>19000000.0</td>\n",
       "      <td>381906762.0</td>\n",
       "      <td>0</td>\n",
       "      <td>12</td>\n",
       "      <td>76</td>\n",
       "    </tr>\n",
       "    <tr>\n",
       "      <th>906</th>\n",
       "      <td>1993</td>\n",
       "      <td>6</td>\n",
       "      <td>2017-12-30</td>\n",
       "      <td>847</td>\n",
       "      <td>315</td>\n",
       "      <td>4</td>\n",
       "      <td>1100000.0</td>\n",
       "      <td>5450815.0</td>\n",
       "      <td>0</td>\n",
       "      <td>30</td>\n",
       "      <td>261</td>\n",
       "    </tr>\n",
       "    <tr>\n",
       "      <th>907</th>\n",
       "      <td>1993</td>\n",
       "      <td>0</td>\n",
       "      <td>2017-12-30</td>\n",
       "      <td>707</td>\n",
       "      <td>315</td>\n",
       "      <td>7</td>\n",
       "      <td>6500000.0</td>\n",
       "      <td>2347000.0</td>\n",
       "      <td>0</td>\n",
       "      <td>30</td>\n",
       "      <td>261</td>\n",
       "    </tr>\n",
       "    <tr>\n",
       "      <th>...</th>\n",
       "      <td>...</td>\n",
       "      <td>...</td>\n",
       "      <td>...</td>\n",
       "      <td>...</td>\n",
       "      <td>...</td>\n",
       "      <td>...</td>\n",
       "      <td>...</td>\n",
       "      <td>...</td>\n",
       "      <td>...</td>\n",
       "      <td>...</td>\n",
       "      <td>...</td>\n",
       "    </tr>\n",
       "    <tr>\n",
       "      <th>593</th>\n",
       "      <td>239</td>\n",
       "      <td>6</td>\n",
       "      <td>2014-01-09</td>\n",
       "      <td>1855</td>\n",
       "      <td>433</td>\n",
       "      <td>3</td>\n",
       "      <td>18000000.0</td>\n",
       "      <td>19265302.0</td>\n",
       "      <td>0</td>\n",
       "      <td>41</td>\n",
       "      <td>190</td>\n",
       "    </tr>\n",
       "    <tr>\n",
       "      <th>8487</th>\n",
       "      <td>208</td>\n",
       "      <td>0</td>\n",
       "      <td>2014-01-06</td>\n",
       "      <td>484</td>\n",
       "      <td>41</td>\n",
       "      <td>3</td>\n",
       "      <td>150000000.0</td>\n",
       "      <td>603900354.0</td>\n",
       "      <td>0</td>\n",
       "      <td>3</td>\n",
       "      <td>127</td>\n",
       "    </tr>\n",
       "    <tr>\n",
       "      <th>739</th>\n",
       "      <td>87</td>\n",
       "      <td>4</td>\n",
       "      <td>2014-01-04</td>\n",
       "      <td>905</td>\n",
       "      <td>172</td>\n",
       "      <td>3</td>\n",
       "      <td>12000000.0</td>\n",
       "      <td>17130087.0</td>\n",
       "      <td>0</td>\n",
       "      <td>11</td>\n",
       "      <td>253</td>\n",
       "    </tr>\n",
       "    <tr>\n",
       "      <th>740</th>\n",
       "      <td>87</td>\n",
       "      <td>6</td>\n",
       "      <td>2014-01-04</td>\n",
       "      <td>1564</td>\n",
       "      <td>172</td>\n",
       "      <td>3</td>\n",
       "      <td>3000000.0</td>\n",
       "      <td>7196872.0</td>\n",
       "      <td>0</td>\n",
       "      <td>11</td>\n",
       "      <td>253</td>\n",
       "    </tr>\n",
       "    <tr>\n",
       "      <th>741</th>\n",
       "      <td>87</td>\n",
       "      <td>4</td>\n",
       "      <td>2014-01-04</td>\n",
       "      <td>443</td>\n",
       "      <td>172</td>\n",
       "      <td>2</td>\n",
       "      <td>1250000.0</td>\n",
       "      <td>2492088.0</td>\n",
       "      <td>0</td>\n",
       "      <td>11</td>\n",
       "      <td>253</td>\n",
       "    </tr>\n",
       "  </tbody>\n",
       "</table>\n",
       "<p>4874 rows × 11 columns</p>\n",
       "</div>"
      ],
      "text/plain": [
       "      House ID  Category  Sale Date  Company  Address  Quantity       budget  \\\n",
       "1297      1675         0 2017-12-30     1644       40         2    3500000.0   \n",
       "1296      1675         0 2017-12-30      986       40         2    3000000.0   \n",
       "645       1806         3 2017-12-30     1533      186         2   19000000.0   \n",
       "906       1993         6 2017-12-30      847      315         4    1100000.0   \n",
       "907       1993         0 2017-12-30      707      315         7    6500000.0   \n",
       "...        ...       ...        ...      ...      ...       ...          ...   \n",
       "593        239         6 2014-01-09     1855      433         3   18000000.0   \n",
       "8487       208         0 2014-01-06      484       41         3  150000000.0   \n",
       "739         87         4 2014-01-04      905      172         3   12000000.0   \n",
       "740         87         6 2014-01-04     1564      172         3    3000000.0   \n",
       "741         87         4 2014-01-04      443      172         2    1250000.0   \n",
       "\n",
       "            gross  Country  State  City  \n",
       "1297    4385516.0        0      3   115  \n",
       "1296   13030057.0        0      3   115  \n",
       "645   381906762.0        0     12    76  \n",
       "906     5450815.0        0     30   261  \n",
       "907     2347000.0        0     30   261  \n",
       "...           ...      ...    ...   ...  \n",
       "593    19265302.0        0     41   190  \n",
       "8487  603900354.0        0      3   127  \n",
       "739    17130087.0        0     11   253  \n",
       "740     7196872.0        0     11   253  \n",
       "741     2492088.0        0     11   253  \n",
       "\n",
       "[4874 rows x 11 columns]"
      ]
     },
     "execution_count": 66,
     "metadata": {},
     "output_type": "execute_result"
    }
   ],
   "source": [
    "# Generate numeric representation of all non numeric columns \n",
    "\n",
    "df_coded = df \n",
    "for col_name in df_coded.columns:\n",
    "    if df_coded[col_name].dtype==\"object\":\n",
    "        df_coded[col_name]= df_coded_company[col_name].astype(\"category\")\n",
    "        df_coded[col_name]= df_coded_company[col_name].cat.codes\n",
    "df_coded"
   ]
  },
  {
   "cell_type": "code",
   "execution_count": 67,
   "id": "31bb0ee5",
   "metadata": {
    "scrolled": true
   },
   "outputs": [
    {
     "data": {
      "text/html": [
       "<div>\n",
       "<style scoped>\n",
       "    .dataframe tbody tr th:only-of-type {\n",
       "        vertical-align: middle;\n",
       "    }\n",
       "\n",
       "    .dataframe tbody tr th {\n",
       "        vertical-align: top;\n",
       "    }\n",
       "\n",
       "    .dataframe thead th {\n",
       "        text-align: right;\n",
       "    }\n",
       "</style>\n",
       "<table border=\"1\" class=\"dataframe\">\n",
       "  <thead>\n",
       "    <tr style=\"text-align: right;\">\n",
       "      <th></th>\n",
       "      <th>House ID</th>\n",
       "      <th>Category</th>\n",
       "      <th>Company</th>\n",
       "      <th>Address</th>\n",
       "      <th>Quantity</th>\n",
       "      <th>budget</th>\n",
       "      <th>gross</th>\n",
       "      <th>Country</th>\n",
       "      <th>State</th>\n",
       "      <th>City</th>\n",
       "    </tr>\n",
       "  </thead>\n",
       "  <tbody>\n",
       "    <tr>\n",
       "      <th>House ID</th>\n",
       "      <td>1.000000</td>\n",
       "      <td>-0.006832</td>\n",
       "      <td>-0.014217</td>\n",
       "      <td>0.042637</td>\n",
       "      <td>-0.003697</td>\n",
       "      <td>0.012808</td>\n",
       "      <td>0.009637</td>\n",
       "      <td>NaN</td>\n",
       "      <td>0.041541</td>\n",
       "      <td>-0.016321</td>\n",
       "    </tr>\n",
       "    <tr>\n",
       "      <th>Category</th>\n",
       "      <td>-0.006832</td>\n",
       "      <td>1.000000</td>\n",
       "      <td>-0.012600</td>\n",
       "      <td>0.003145</td>\n",
       "      <td>0.009167</td>\n",
       "      <td>-0.280296</td>\n",
       "      <td>-0.201642</td>\n",
       "      <td>NaN</td>\n",
       "      <td>0.002098</td>\n",
       "      <td>-0.003776</td>\n",
       "    </tr>\n",
       "    <tr>\n",
       "      <th>Company</th>\n",
       "      <td>-0.014217</td>\n",
       "      <td>-0.012600</td>\n",
       "      <td>1.000000</td>\n",
       "      <td>0.011816</td>\n",
       "      <td>-0.009700</td>\n",
       "      <td>0.001366</td>\n",
       "      <td>-0.009000</td>\n",
       "      <td>NaN</td>\n",
       "      <td>0.015190</td>\n",
       "      <td>-0.020415</td>\n",
       "    </tr>\n",
       "    <tr>\n",
       "      <th>Address</th>\n",
       "      <td>0.042637</td>\n",
       "      <td>0.003145</td>\n",
       "      <td>0.011816</td>\n",
       "      <td>1.000000</td>\n",
       "      <td>-0.008609</td>\n",
       "      <td>-0.004552</td>\n",
       "      <td>-0.009769</td>\n",
       "      <td>NaN</td>\n",
       "      <td>0.994053</td>\n",
       "      <td>0.021639</td>\n",
       "    </tr>\n",
       "    <tr>\n",
       "      <th>Quantity</th>\n",
       "      <td>-0.003697</td>\n",
       "      <td>0.009167</td>\n",
       "      <td>-0.009700</td>\n",
       "      <td>-0.008609</td>\n",
       "      <td>1.000000</td>\n",
       "      <td>-0.005532</td>\n",
       "      <td>0.009857</td>\n",
       "      <td>NaN</td>\n",
       "      <td>-0.008789</td>\n",
       "      <td>-0.012303</td>\n",
       "    </tr>\n",
       "    <tr>\n",
       "      <th>budget</th>\n",
       "      <td>0.012808</td>\n",
       "      <td>-0.280296</td>\n",
       "      <td>0.001366</td>\n",
       "      <td>-0.004552</td>\n",
       "      <td>-0.005532</td>\n",
       "      <td>1.000000</td>\n",
       "      <td>0.719193</td>\n",
       "      <td>NaN</td>\n",
       "      <td>-0.003406</td>\n",
       "      <td>0.008090</td>\n",
       "    </tr>\n",
       "    <tr>\n",
       "      <th>gross</th>\n",
       "      <td>0.009637</td>\n",
       "      <td>-0.201642</td>\n",
       "      <td>-0.009000</td>\n",
       "      <td>-0.009769</td>\n",
       "      <td>0.009857</td>\n",
       "      <td>0.719193</td>\n",
       "      <td>1.000000</td>\n",
       "      <td>NaN</td>\n",
       "      <td>-0.008220</td>\n",
       "      <td>0.025231</td>\n",
       "    </tr>\n",
       "    <tr>\n",
       "      <th>Country</th>\n",
       "      <td>NaN</td>\n",
       "      <td>NaN</td>\n",
       "      <td>NaN</td>\n",
       "      <td>NaN</td>\n",
       "      <td>NaN</td>\n",
       "      <td>NaN</td>\n",
       "      <td>NaN</td>\n",
       "      <td>NaN</td>\n",
       "      <td>NaN</td>\n",
       "      <td>NaN</td>\n",
       "    </tr>\n",
       "    <tr>\n",
       "      <th>State</th>\n",
       "      <td>0.041541</td>\n",
       "      <td>0.002098</td>\n",
       "      <td>0.015190</td>\n",
       "      <td>0.994053</td>\n",
       "      <td>-0.008789</td>\n",
       "      <td>-0.003406</td>\n",
       "      <td>-0.008220</td>\n",
       "      <td>NaN</td>\n",
       "      <td>1.000000</td>\n",
       "      <td>0.000077</td>\n",
       "    </tr>\n",
       "    <tr>\n",
       "      <th>City</th>\n",
       "      <td>-0.016321</td>\n",
       "      <td>-0.003776</td>\n",
       "      <td>-0.020415</td>\n",
       "      <td>0.021639</td>\n",
       "      <td>-0.012303</td>\n",
       "      <td>0.008090</td>\n",
       "      <td>0.025231</td>\n",
       "      <td>NaN</td>\n",
       "      <td>0.000077</td>\n",
       "      <td>1.000000</td>\n",
       "    </tr>\n",
       "  </tbody>\n",
       "</table>\n",
       "</div>"
      ],
      "text/plain": [
       "          House ID  Category   Company   Address  Quantity    budget  \\\n",
       "House ID  1.000000 -0.006832 -0.014217  0.042637 -0.003697  0.012808   \n",
       "Category -0.006832  1.000000 -0.012600  0.003145  0.009167 -0.280296   \n",
       "Company  -0.014217 -0.012600  1.000000  0.011816 -0.009700  0.001366   \n",
       "Address   0.042637  0.003145  0.011816  1.000000 -0.008609 -0.004552   \n",
       "Quantity -0.003697  0.009167 -0.009700 -0.008609  1.000000 -0.005532   \n",
       "budget    0.012808 -0.280296  0.001366 -0.004552 -0.005532  1.000000   \n",
       "gross     0.009637 -0.201642 -0.009000 -0.009769  0.009857  0.719193   \n",
       "Country        NaN       NaN       NaN       NaN       NaN       NaN   \n",
       "State     0.041541  0.002098  0.015190  0.994053 -0.008789 -0.003406   \n",
       "City     -0.016321 -0.003776 -0.020415  0.021639 -0.012303  0.008090   \n",
       "\n",
       "             gross  Country     State      City  \n",
       "House ID  0.009637      NaN  0.041541 -0.016321  \n",
       "Category -0.201642      NaN  0.002098 -0.003776  \n",
       "Company  -0.009000      NaN  0.015190 -0.020415  \n",
       "Address  -0.009769      NaN  0.994053  0.021639  \n",
       "Quantity  0.009857      NaN -0.008789 -0.012303  \n",
       "budget    0.719193      NaN -0.003406  0.008090  \n",
       "gross     1.000000      NaN -0.008220  0.025231  \n",
       "Country        NaN      NaN       NaN       NaN  \n",
       "State    -0.008220      NaN  1.000000  0.000077  \n",
       "City      0.025231      NaN  0.000077  1.000000  "
      ]
     },
     "execution_count": 67,
     "metadata": {},
     "output_type": "execute_result"
    }
   ],
   "source": [
    "# Look at the correlation \n",
    "df_coded.corr()\n"
   ]
  },
  {
   "cell_type": "code",
   "execution_count": 71,
   "id": "b076443d",
   "metadata": {
    "scrolled": true
   },
   "outputs": [
    {
     "data": {
      "text/plain": [
       "Text(69.0, 0.5, 'Data features')"
      ]
     },
     "execution_count": 71,
     "metadata": {},
     "output_type": "execute_result"
    },
    {
     "data": {
      "image/png": "[encoded data removed]",
      "text/plain": [
       "<Figure size 720x432 with 2 Axes>"
      ]
     },
     "metadata": {
      "needs_background": "light"
     },
     "output_type": "display_data"
    }
   ],
   "source": [
    "#visualize the correlation matrix\n",
    "\n",
    "correlation_matrix = df_coded.corr() \n",
    "\n",
    "plt.figure(figsize=(10, 6))\n",
    "sns.heatmap(correlation_matrix, annot=True)\n",
    "\n",
    "plt.title(\"Correlation Matrix for All columns\")\n",
    "plt.xlabel(\"Data features\")\n",
    "plt.ylabel(\"Data features\")\n"
   ]
  },
  {
   "cell_type": "code",
   "execution_count": 76,
   "id": "f2fd28b4",
   "metadata": {
    "scrolled": true
   },
   "outputs": [
    {
     "data": {
      "text/plain": [
       "House ID  House ID    1.000000\n",
       "          Category   -0.006832\n",
       "          Company    -0.014217\n",
       "          Address     0.042637\n",
       "          Quantity   -0.003697\n",
       "                        ...   \n",
       "City      budget      0.008090\n",
       "          gross       0.025231\n",
       "          Country          NaN\n",
       "          State       0.000077\n",
       "          City        1.000000\n",
       "Length: 100, dtype: float64"
      ]
     },
     "execution_count": 76,
     "metadata": {},
     "output_type": "execute_result"
    }
   ],
   "source": [
    "# Unstack the correlation matrix\n",
    "\n",
    "correlation_matrix = df_coded.corr() \n",
    "correlation_pairs  = correlation_matrix.unstack()\n",
    "correlation_pairs "
   ]
  },
  {
   "cell_type": "code",
   "execution_count": 77,
   "id": "f67a5864",
   "metadata": {},
   "outputs": [
    {
     "data": {
      "text/plain": [
       "budget    Category   -0.280296\n",
       "Category  budget     -0.280296\n",
       "          gross      -0.201642\n",
       "gross     Category   -0.201642\n",
       "Company   City       -0.020415\n",
       "                        ...   \n",
       "Country   Country          NaN\n",
       "          State            NaN\n",
       "          City             NaN\n",
       "State     Country          NaN\n",
       "City      Country          NaN\n",
       "Length: 100, dtype: float64"
      ]
     },
     "execution_count": 77,
     "metadata": {},
     "output_type": "execute_result"
    }
   ],
   "source": [
    "# sort the correlation pair\n",
    "\n",
    "sorted_correlation = correlation_pairs.sort_values()\n",
    "sorted_correlation\n"
   ]
  },
  {
   "cell_type": "code",
   "execution_count": 79,
   "id": "20eb938e",
   "metadata": {
    "scrolled": true
   },
   "outputs": [
    {
     "data": {
      "text/plain": [
       "gross     budget      0.719193\n",
       "budget    gross       0.719193\n",
       "Address   State       0.994053\n",
       "State     Address     0.994053\n",
       "House ID  House ID    1.000000\n",
       "Quantity  Quantity    1.000000\n",
       "gross     gross       1.000000\n",
       "budget    budget      1.000000\n",
       "Address   Address     1.000000\n",
       "Company   Company     1.000000\n",
       "Category  Category    1.000000\n",
       "State     State       1.000000\n",
       "City      City        1.000000\n",
       "dtype: float64"
      ]
     },
     "execution_count": 79,
     "metadata": {},
     "output_type": "execute_result"
    }
   ],
   "source": [
    "# filter the high correlation\n",
    "\n",
    "high_correlation = sorted_correlation[(sorted_correlation) > 0.5]\n",
    "high_correlation"
   ]
  },
  {
   "cell_type": "code",
   "execution_count": null,
   "id": "9c9a508b",
   "metadata": {},
   "outputs": [],
   "source": [
    "# budget has high correlation to gross earnings "
   ]
  }
 ],
 "metadata": {
  "kernelspec": {
   "display_name": "Python 3 (ipykernel)",
   "language": "python",
   "name": "python3"
  },
  "language_info": {
   "codemirror_mode": {
    "name": "ipython",
    "version": 3
   },
   "file_extension": ".py",
   "mimetype": "text/x-python",
   "name": "python",
   "nbconvert_exporter": "python",
   "pygments_lexer": "ipython3",
   "version": "3.9.7"
  }
 },
 "nbformat": 4,
 "nbformat_minor": 5
}
